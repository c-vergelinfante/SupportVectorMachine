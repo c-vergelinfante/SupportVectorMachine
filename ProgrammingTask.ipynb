{
 "cells": [
  {
   "cell_type": "markdown",
   "metadata": {},
   "source": [
    "# Programming Task : Linear Separator\n",
    "### Carlos Miguel Vergel Infante - October 9th, 2019\n",
    "\n",
    "In the problem, there are two groups of 2-dimensional (x,y) coordinates labeled as `group1` and `group2`, which are defined as:"
   ]
  },
  {
   "cell_type": "code",
   "execution_count": 1,
   "metadata": {},
   "outputs": [],
   "source": [
    "group1 = [[0.067, 0.21], [0.092, 0.21], \n",
    "  [0.294, 0.445], [0.227, 0.521], [0.185, 0.597], \n",
    "  [0.185, 0.689], [0.235, 0.748], [0.319, 0.773], \n",
    "  [0.387, 0.739], [0.437, 0.672], [0.496, 0.739],\n",
    "  [0.571, 0.773], [0.639, 0.765], [0.765, 0.924],\n",
    "  [0.807, 0.933], [0.849, 0.941]]"
   ]
  },
  {
   "cell_type": "code",
   "execution_count": 2,
   "metadata": {},
   "outputs": [],
   "source": [
    "group2 = [[0.118, 0.143], [0.118, 0.176], \n",
    "  [0.345, 0.378], [0.395, 0.319], [0.437, 0.261],\n",
    "  [0.496, 0.328], [0.546, 0.395], [0.605, 0.462],\n",
    "  [0.655, 0.529], [0.697, 0.597], [0.706, 0.664],\n",
    "  [0.681, 0.723], [0.849, 0.798], [0.857, 0.849],\n",
    "  [0.866, 0.899]]"
   ]
  },
  {
   "cell_type": "markdown",
   "metadata": {},
   "source": [
    "Each list has a different number of entries as it was checked here:"
   ]
  },
  {
   "cell_type": "code",
   "execution_count": 3,
   "metadata": {},
   "outputs": [
    {
     "name": "stdout",
     "output_type": "stream",
     "text": [
      "Number of Entries in group1 16\n",
      "Number of Entries in group2 15\n"
     ]
    }
   ],
   "source": [
    "print('Number of Entries in group1',len(group1))\n",
    "print('Number of Entries in group2',len(group2))"
   ]
  },
  {
   "cell_type": "markdown",
   "metadata": {},
   "source": [
    "The task in this notebook is to find an equation for a linear separation for these two groups of points. But before getting into the code, let's first see how the plots are distributed in the (x,y)-plane. For this, let's first stablish our environment with the usual libraries including `scikit-learn` to be used laster in the notebook."
   ]
  },
  {
   "cell_type": "code",
   "execution_count": 4,
   "metadata": {},
   "outputs": [],
   "source": [
    "import numpy as np\n",
    "import matplotlib.pyplot as plt\n",
    "from sklearn import svm"
   ]
  },
  {
   "cell_type": "markdown",
   "metadata": {},
   "source": [
    "Now, we can plot the two lists and see that together they formed a heart with some extra points looking as an arrow. In fact, the linear separator we are looking for in this task is the missing part of the arrow that will complete the figure."
   ]
  },
  {
   "cell_type": "code",
   "execution_count": 5,
   "metadata": {},
   "outputs": [
    {
     "data": {
      "image/png": "[encoded data removed]",
      "text/plain": [
       "<Figure size 432x288 with 1 Axes>"
      ]
     },
     "metadata": {
      "needs_background": "light"
     },
     "output_type": "display_data"
    }
   ],
   "source": [
    "x_group1 = [x[0] for x in group1]\n",
    "y_group1 = [x[1] for x in group1]\n",
    "\n",
    "x_group2 = [x[0] for x in group2]\n",
    "y_group2 = [x[1] for x in group2]\n",
    "\n",
    "plt.plot(x_group1, y_group1,'.', label='Group 1')\n",
    "plt.plot(x_group2, y_group2,'.', label='Group 2')\n",
    "\n",
    "plt.xlabel('X')\n",
    "plt.ylabel('Y')\n",
    "\n",
    "plt.legend()\n",
    "plt.show()"
   ]
  },
  {
   "cell_type": "markdown",
   "metadata": {},
   "source": [
    "Now that we have seen the data and visualy understood the perfect outcome of the task, let's finally tackle the problem. The best method to solve this task is `Support Vector Machine` (`SVM`), a Machine Learning technique that can be used to separate groups of points in 2 or more dimentions. However, given our problem, we are only going to focus on the `linear` version of the method.\n",
    "\n",
    "Before getting into the proper method, let's create a new list containing both groups:"
   ]
  },
  {
   "cell_type": "code",
   "execution_count": 6,
   "metadata": {},
   "outputs": [],
   "source": [
    "# Cloning the group1 list, and appending every term of group2 into the new list: final_list\n",
    "\n",
    "final_list = group1.copy()\n",
    "\n",
    "for x in range(0, len(group2)):\n",
    "    final_list.append(group2[x])"
   ]
  },
  {
   "cell_type": "code",
   "execution_count": 7,
   "metadata": {},
   "outputs": [
    {
     "data": {
      "text/plain": [
       "[[0.067, 0.21],\n",
       " [0.092, 0.21],\n",
       " [0.294, 0.445],\n",
       " [0.227, 0.521],\n",
       " [0.185, 0.597],\n",
       " [0.185, 0.689],\n",
       " [0.235, 0.748],\n",
       " [0.319, 0.773],\n",
       " [0.387, 0.739],\n",
       " [0.437, 0.672],\n",
       " [0.496, 0.739],\n",
       " [0.571, 0.773],\n",
       " [0.639, 0.765],\n",
       " [0.765, 0.924],\n",
       " [0.807, 0.933],\n",
       " [0.849, 0.941],\n",
       " [0.118, 0.143],\n",
       " [0.118, 0.176],\n",
       " [0.345, 0.378],\n",
       " [0.395, 0.319],\n",
       " [0.437, 0.261],\n",
       " [0.496, 0.328],\n",
       " [0.546, 0.395],\n",
       " [0.605, 0.462],\n",
       " [0.655, 0.529],\n",
       " [0.697, 0.597],\n",
       " [0.706, 0.664],\n",
       " [0.681, 0.723],\n",
       " [0.849, 0.798],\n",
       " [0.857, 0.849],\n",
       " [0.866, 0.899]]"
      ]
     },
     "execution_count": 7,
     "metadata": {},
     "output_type": "execute_result"
    }
   ],
   "source": [
    "# Double-checking that final_list behaves as expected\n",
    "\n",
    "final_list"
   ]
  },
  {
   "cell_type": "markdown",
   "metadata": {},
   "source": [
    "As a double-check, we can print the length of `final_list` since we know already that it needs to be 16 (group1) + 15 (group2) = 31, as calculated before."
   ]
  },
  {
   "cell_type": "code",
   "execution_count": 8,
   "metadata": {},
   "outputs": [
    {
     "data": {
      "text/plain": [
       "31"
      ]
     },
     "execution_count": 8,
     "metadata": {},
     "output_type": "execute_result"
    }
   ],
   "source": [
    "len(final_list)"
   ]
  },
  {
   "cell_type": "markdown",
   "metadata": {},
   "source": [
    "Perfect! \n",
    "\n",
    "Since `SVM` is a surpervised learning technique, we are required to specify to which group each point corresponds. Since we know the first 16 elements correspond to the `group1` and the rest to the `group2`, we can create the list `y_label` where elements from the `group1` are labeled as 0 and 1 if they are from the `group2`:"
   ]
  },
  {
   "cell_type": "code",
   "execution_count": 9,
   "metadata": {},
   "outputs": [],
   "source": [
    "y_label = []\n",
    "for x in range (0,len(final_list)):\n",
    "    if x < len(group1):\n",
    "        y_label.append(0)\n",
    "    else:\n",
    "        y_label.append(1)"
   ]
  },
  {
   "cell_type": "markdown",
   "metadata": {},
   "source": [
    "And again, let's print the list and check its lenght (should be 31 again) to be sure before continuing."
   ]
  },
  {
   "cell_type": "code",
   "execution_count": 10,
   "metadata": {},
   "outputs": [
    {
     "data": {
      "text/plain": [
       "[0,\n",
       " 0,\n",
       " 0,\n",
       " 0,\n",
       " 0,\n",
       " 0,\n",
       " 0,\n",
       " 0,\n",
       " 0,\n",
       " 0,\n",
       " 0,\n",
       " 0,\n",
       " 0,\n",
       " 0,\n",
       " 0,\n",
       " 0,\n",
       " 1,\n",
       " 1,\n",
       " 1,\n",
       " 1,\n",
       " 1,\n",
       " 1,\n",
       " 1,\n",
       " 1,\n",
       " 1,\n",
       " 1,\n",
       " 1,\n",
       " 1,\n",
       " 1,\n",
       " 1,\n",
       " 1]"
      ]
     },
     "execution_count": 10,
     "metadata": {},
     "output_type": "execute_result"
    }
   ],
   "source": [
    "y_label"
   ]
  },
  {
   "cell_type": "code",
   "execution_count": 11,
   "metadata": {},
   "outputs": [
    {
     "data": {
      "text/plain": [
       "31"
      ]
     },
     "execution_count": 11,
     "metadata": {},
     "output_type": "execute_result"
    }
   ],
   "source": [
    "len(y_label)"
   ]
  },
  {
   "cell_type": "markdown",
   "metadata": {},
   "source": [
    "Alright. Time for the interesting machine learning stuff. We know we need to create a `Linear SVM` to find our linear separation so we are going to create one directly from the `scikit-learn` package as:"
   ]
  },
  {
   "cell_type": "code",
   "execution_count": 12,
   "metadata": {},
   "outputs": [],
   "source": [
    "# Create a linear SVM classifier \n",
    "clf = svm.SVC(kernel='linear', C=1E10)"
   ]
  },
  {
   "cell_type": "markdown",
   "metadata": {},
   "source": [
    "Now, there is an extra requirement here of `C=1E10`. The `C` parameter is called the `tunning parameter` and can be understood as how flexible (low values of `C`) or strict (high values of `C`) the spatial separation between the two groups would be. As in our case both groups are well separated, we should increase the value of `C` to make sure the output of the method corresctly classifies all the points in the data. With this in main, let's fit the classifier (`clf`) with our data list (`final_list`) and the corresponding labels (`y_label`)."
   ]
  },
  {
   "cell_type": "code",
   "execution_count": 13,
   "metadata": {},
   "outputs": [
    {
     "data": {
      "text/plain": [
       "SVC(C=10000000000.0, cache_size=200, class_weight=None, coef0=0.0,\n",
       "  decision_function_shape='ovr', degree=3, gamma='auto_deprecated',\n",
       "  kernel='linear', max_iter=-1, probability=False, random_state=None,\n",
       "  shrinking=True, tol=0.001, verbose=False)"
      ]
     },
     "execution_count": 13,
     "metadata": {},
     "output_type": "execute_result"
    }
   ],
   "source": [
    "# Train classifier \n",
    "clf.fit(final_list, y_label)"
   ]
  },
  {
   "cell_type": "markdown",
   "metadata": {},
   "source": [
    "Before going any further, we should check if all the points were correctly classified or not. To this, we can use a quick trick. We used the fit of the classifier (`clf`) to predict the values of the `final_list` and there compare the prediction with the `y_label`. We are looking for an accuracy of 100% if all the points were correctly classified into their correspoinding group."
   ]
  },
  {
   "cell_type": "code",
   "execution_count": 14,
   "metadata": {},
   "outputs": [
    {
     "name": "stdout",
     "output_type": "stream",
     "text": [
      "Accuracy: 100.0%\n"
     ]
    }
   ],
   "source": [
    "clf_predictions = clf.predict(final_list)\n",
    "print(\"Accuracy: {}%\".format(clf.score(final_list, y_label) * 100 ))"
   ]
  },
  {
   "cell_type": "markdown",
   "metadata": {},
   "source": [
    "Great, we have achieved our goal!\n",
    "\n",
    "Now, we can focus on getting the proper equation and then plot it to see if it corresponds to what we thought before. We can obtained the coefficients and intercept points as:"
   ]
  },
  {
   "cell_type": "code",
   "execution_count": 15,
   "metadata": {},
   "outputs": [
    {
     "name": "stdout",
     "output_type": "stream",
     "text": [
      "Coeffcients X and Y =  [[ 34.61834698 -35.84836888]]\n",
      "Intercept =  [3.34295641]\n"
     ]
    }
   ],
   "source": [
    "print('Coeffcients X and Y = ', clf.coef_)\n",
    "print('Intercept = ', clf.intercept_)"
   ]
  },
  {
   "cell_type": "markdown",
   "metadata": {},
   "source": [
    "The coefficients are given in the from `a*x + b*y + intercept = 0`. Therefore, to find our separating line we need to solve this equation for `y` as:\n",
    "\n",
    "`y = -(a/b)*x - (int/b) = (34.61834698/35.84836888)*x + (3.34295641/35.84836888)`\n",
    "\n",
    "Then, our final equation is:\n",
    "\n",
    "`y = 0.96568820455*x + 0.09325267827`.\n",
    "\n",
    "We can better visualize this equation by plotting it along with the other two groups of points as:"
   ]
  },
  {
   "cell_type": "code",
   "execution_count": 16,
   "metadata": {},
   "outputs": [
    {
     "data": {
      "image/png": "[encoded data removed]",
      "text/plain": [
       "<Figure size 432x288 with 1 Axes>"
      ]
     },
     "metadata": {
      "needs_background": "light"
     },
     "output_type": "display_data"
    }
   ],
   "source": [
    "x_group1 = [x[0] for x in group1]\n",
    "y_group1 = [x[1] for x in group1]\n",
    "\n",
    "x_group2 = [x[0] for x in group2]\n",
    "y_group2 = [x[1] for x in group2]\n",
    "\n",
    "linear_separator = np.arange(0.06, 0.88, 0.01)\n",
    "\n",
    "plt.plot(x_group1, y_group1,'.', label='Group 1')\n",
    "plt.plot(x_group2, y_group2,'.', label='Group 2')\n",
    "plt.plot(linear_separator, ((34.61834698/35.84836888)*linear_separator) + (clf.intercept_/35.84836888), label='Separator')\n",
    "\n",
    "plt.xlabel('X')\n",
    "plt.ylabel('Y')\n",
    "\n",
    "plt.legend()\n",
    "plt.show()"
   ]
  },
  {
   "cell_type": "markdown",
   "metadata": {},
   "source": [
    "Then, the full image of the heart and the arrow is finally completed!"
   ]
  }
 ],
 "metadata": {
  "kernelspec": {
   "display_name": "Python 3",
   "language": "python",
   "name": "python3"
  },
  "language_info": {
   "codemirror_mode": {
    "name": "ipython",
    "version": 3
   },
   "file_extension": ".py",
   "mimetype": "text/x-python",
   "name": "python",
   "nbconvert_exporter": "python",
   "pygments_lexer": "ipython3",
   "version": "3.7.1"
  }
 },
 "nbformat": 4,
 "nbformat_minor": 2
}
